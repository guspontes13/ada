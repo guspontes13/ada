{
 "cells": [
  {
   "cell_type": "code",
   "execution_count": 2,
   "metadata": {},
   "outputs": [],
   "source": [
    "import numpy as np\n",
    "import pandas as pd"
   ]
  },
  {
   "cell_type": "code",
   "execution_count": 3,
   "metadata": {},
   "outputs": [
    {
     "name": "stdout",
     "output_type": "stream",
     "text": [
      "Essa é uma matriz bidimensional 10x10 com números aleatórios: \n",
      " [[58 97 48 36 88 23 73 54 32 37]\n",
      " [79 43 54 55 78 84 82 64 73 61]\n",
      " [55 79 71  6 62 85 25 85 31 60]\n",
      " [29  6 64 11 43 41 46 19 89 55]\n",
      " [73 56 11 72 68 86 70 31 61 26]\n",
      " [64 70 90  3 22 20  5 65 39 89]\n",
      " [79 13 47 25 43 71 33 75 25 64]\n",
      " [88 24 30 34  4 84 81 39 83 24]\n",
      " [81 43 93 49 74 92 35 20 54 31]\n",
      " [40 76 94 58 64 78  6 13 72 56]]\n"
     ]
    }
   ],
   "source": [
    "lista = pd.read_csv('C:/Users/F3880346/Downloads/amostra_exercicio.csv', sep=',', header=None)\n",
    "matriz = np.array(lista)\n",
    "matriz = matriz.reshape(10,10)\n",
    "print('Essa é uma matriz bidimensional 10x10 com números aleatórios: \\n', matriz)"
   ]
  },
  {
   "cell_type": "code",
   "execution_count": 4,
   "metadata": {},
   "outputs": [
    {
     "name": "stdout",
     "output_type": "stream",
     "text": [
      "Desvio padrão 25.901526982014015 \n",
      "Média calculada: 52.97\n",
      "Valor médio no eixo 0 [64.6 50.7 60.2 34.9 54.6 66.4 45.6 46.5 55.9 50.3] \n",
      "Valor médio no eixo 1 [54.6 67.3 55.9 40.3 55.4 46.7 47.5 49.1 57.2 55.7]\n"
     ]
    }
   ],
   "source": [
    "#Obter dados estatísticos (pelo menos 3, uma com axis=1, a outra com axis = 0 e a última sem axis);\n",
    "valor_media= matriz.mean()\n",
    "valor_desvio_padrao = matriz.std()\n",
    "valor_medio_eixo0 = np.mean(matriz, axis=0)\n",
    "valor_medio_eixo1 = np.mean(matriz, axis=1)\n",
    "print ('Desvio padrão', valor_desvio_padrao, '\\nMédia calculada:', valor_media)\n",
    "print ('Valor médio no eixo 0', valor_medio_eixo0, '\\nValor médio no eixo 1', valor_medio_eixo1)"
   ]
  },
  {
   "cell_type": "code",
   "execution_count": 5,
   "metadata": {},
   "outputs": [
    {
     "name": "stdout",
     "output_type": "stream",
     "text": [
      "[[ 87.  118.5  82.5  43.5 109.5  96.  118.5 132.  121.5  60. ]\n",
      " [145.5  64.5 118.5   9.   84.  105.   19.5  36.   64.5 114. ]\n",
      " [ 72.   81.  106.5  96.   16.5 135.   70.5  45.  139.5 141. ]\n",
      " [ 54.   82.5   9.   16.5 108.    4.5  37.5  51.   73.5  87. ]\n",
      " [132.  117.   93.   64.5 102.   33.   64.5   6.  111.   96. ]\n",
      " [ 34.5 126.  127.5  61.5 129.   30.  106.5 126.  138.  117. ]\n",
      " [109.5 123.   37.5  69.  105.    7.5  49.5 121.5  52.5   9. ]\n",
      " [ 81.   96.  127.5  28.5  46.5  97.5 112.5  58.5  30.   19.5]\n",
      " [ 48.  109.5  46.5 133.5  91.5  58.5  37.5 124.5  81.  108. ]\n",
      " [ 55.5  91.5  90.   82.5  39.  133.5  96.   36.   46.5  84. ]]\n"
     ]
    }
   ],
   "source": [
    "#Obter a transposta da matriz e realizar uma operação com ela\n",
    "matriz_transposta = matriz.T\n",
    "matriz_transposta = matriz_transposta * 1.5\n",
    "print(matriz_transposta)"
   ]
  },
  {
   "cell_type": "code",
   "execution_count": 13,
   "metadata": {},
   "outputs": [
    {
     "name": "stdout",
     "output_type": "stream",
     "text": [
      "[[ 5046.  14113.5  3456.   1944.  11616.    793.5  7993.5  4374.   1536.\n",
      "   2053.5]\n",
      " [ 6873.   6256.5  3888.   2970.  10296.   2898.   8979.   5184.   3504.\n",
      "   3385.5]\n",
      " [ 4785.  11494.5  5112.    324.   8184.   2932.5  2737.5  6885.   1488.\n",
      "   3330. ]\n",
      " [ 2523.    873.   4608.    594.   5676.   1414.5  5037.   1539.   4272.\n",
      "   3052.5]\n",
      " [ 6351.   8148.    792.   3888.   8976.   2967.   7665.   2511.   2928.\n",
      "   1443. ]\n",
      " [ 5568.  10185.   6480.    162.   2904.    690.    547.5  5265.   1872.\n",
      "   4939.5]\n",
      " [ 6873.   1891.5  3384.   1350.   5676.   2449.5  3613.5  6075.   1200.\n",
      "   3552. ]\n",
      " [ 7656.   3492.   2160.   1836.    528.   2898.   8869.5  3159.   3984.\n",
      "   1332. ]\n",
      " [ 7047.   6256.5  6696.   2646.   9768.   3174.   3832.5  1620.   2592.\n",
      "   1720.5]\n",
      " [ 3480.  11058.   6768.   3132.   8448.   2691.    657.   1053.   3456.\n",
      "   3108. ]]\n"
     ]
    }
   ],
   "source": [
    "#Realizar um produto escalar entre duas matrizes ou de um array com uma matriz\n",
    "matriz_resultado = matriz * matriz_transposta\n",
    "print(matriz_resultado)"
   ]
  },
  {
   "cell_type": "code",
   "execution_count": 15,
   "metadata": {},
   "outputs": [
    {
     "name": "stdout",
     "output_type": "stream",
     "text": [
      "A matriz para o filtro das dezenas inferiores a 50 é \n",
      " [48 36 23 32 37 43  6 25 31 29  6 11 43 41 46 19 11 31 26  3 22 20  5 39\n",
      " 13 47 25 43 33 25 24 30 34  4 39 24 43 49 35 20 31 40  6 13]\n"
     ]
    }
   ],
   "source": [
    "#Criar um filtro para a sua matriz\n",
    "matriz_filtrada = matriz[matriz < 50]\n",
    "print('A matriz para o filtro das dezenas inferiores a 50 é \\n', matriz_filtrada )"
   ]
  },
  {
   "cell_type": "code",
   "execution_count": 16,
   "metadata": {},
   "outputs": [
    {
     "name": "stdout",
     "output_type": "stream",
     "text": [
      "Resultado da matriz filtrada acrescido de 10 \n",
      " [58 46 33 42 47 53 16 35 41 39 16 21 53 51 56 29 21 41 36 13 32 30 15 49\n",
      " 23 57 35 53 43 35 34 40 44 14 49 34 53 59 45 30 41 50 16 23]\n",
      "Resultado da matriz filtrada dividido por 2 \n",
      " [116  92  66  84  94 106  32  70  82  78  32  42 106 102 112  58  42  82\n",
      "  72  26  64  60  30  98  46 114  70 106  86  70  68  80  88  28  98  68\n",
      " 106 118  90  60  82 100  32  46]\n"
     ]
    }
   ],
   "source": [
    "#Realizar alguma operação aritmética (número com matriz, array com matriz, etc.)\n",
    "matriz_filtrada += 10\n",
    "print('Resultado da matriz filtrada acrescido de 10 \\n', matriz_filtrada)\n",
    "matriz_filtrada *= 2\n",
    "print('Resultado da matriz filtrada multiplicado por 2 \\n', matriz_filtrada)"
   ]
  }
 ],
 "metadata": {
  "kernelspec": {
   "display_name": "Python 3",
   "language": "python",
   "name": "python3"
  },
  "language_info": {
   "codemirror_mode": {
    "name": "ipython",
    "version": 3
   },
   "file_extension": ".py",
   "mimetype": "text/x-python",
   "name": "python",
   "nbconvert_exporter": "python",
   "pygments_lexer": "ipython3",
   "version": "3.10.8"
  },
  "orig_nbformat": 4
 },
 "nbformat": 4,
 "nbformat_minor": 2
}
